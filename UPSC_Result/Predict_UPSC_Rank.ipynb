{
 "cells": [
  {
   "cell_type": "code",
   "execution_count": 28,
   "metadata": {},
   "outputs": [
    {
     "name": "stdout",
     "output_type": "stream",
     "text": [
      "Collecting biopython\n",
      "\u001b[?25l  Downloading https://files.pythonhosted.org/packages/36/3a/35d78250cb04ced183db3c01344737a7cf95a163f3267383a21e86784a3d/biopython-1.74-cp35-cp35m-manylinux1_x86_64.whl (2.2MB)\n",
      "\u001b[K     |████████████████████████████████| 2.2MB 2.1MB/s eta 0:00:01\n",
      "\u001b[?25hRequirement already satisfied: numpy in /home/moglix/Python3/lib/python3.5/site-packages (from biopython) (1.16.4)\n",
      "Installing collected packages: biopython\n",
      "Successfully installed biopython-1.74\n"
     ]
    }
   ],
   "source": [
    "#Predicting UPSC rank using linear regression\n",
    "#!pip install Bio\n",
    "!pip install biopython"
   ]
  },
  {
   "cell_type": "code",
   "execution_count": 20,
   "metadata": {},
   "outputs": [],
   "source": [
    "import pyspark\n",
    "from pyspark.sql import SparkSession\n",
    "\n",
    "spark=SparkSession.builder.appName(\"Predicting_upsc_rank\").getOrCreate()"
   ]
  },
  {
   "cell_type": "code",
   "execution_count": 45,
   "metadata": {},
   "outputs": [],
   "source": [
    "upsc_data=spark.read.csv(\"/home/moglix/Desktop/Amit/PGitHub/Python/UPSC_Result/CSM18_FQ_WEB_CELL_NEW.csv\",inferSchema=True,header=True)\n",
    "#upsc_data=upsc_data.drop(['ROLL_NO', 'NAME'])\n",
    "columns_to_drop = ['ROLL_NO', 'NAME']\n",
    "upsc_data = upsc_data.drop(*columns_to_drop)\n"
   ]
  },
  {
   "cell_type": "code",
   "execution_count": 46,
   "metadata": {},
   "outputs": [
    {
     "name": "stdout",
     "output_type": "stream",
     "text": [
      "+--------+--------+----------+-------+----+\n",
      "|CATEGORY|PT_MARKS|MAIN_MARKS|F_TOTAL|RANK|\n",
      "+--------+--------+----------+-------+----+\n",
      "|      SC|     179|       942|   1121|   1|\n",
      "|      UR|     198|       882|   1080|   2|\n",
      "|      UR|     184|       893|   1077|   3|\n",
      "|      UR|     184|       887|   1071|   4|\n",
      "|      UR|     173|       895|   1068|   5|\n",
      "|      UR|     184|       883|   1067|   6|\n",
      "|      UR|     182|       885|   1067|   7|\n",
      "|      UR|     195|       871|   1066|   8|\n",
      "|      UR|     193|       871|   1064|   9|\n",
      "|      UR|     187|       877|   1064|  10|\n",
      "|      UR|     193|       870|   1063|  11|\n",
      "|      UR|     171|       891|   1062|  12|\n",
      "|      UR|     165|       897|   1062|  13|\n",
      "|      UR|     182|       879|   1061|  14|\n",
      "|      UR|     206|       854|   1060|  15|\n",
      "|     OBC|     176|       884|   1060|  16|\n",
      "|      UR|     193|       866|   1059|  17|\n",
      "|      UR|     180|       879|   1059|  18|\n",
      "|      UR|     171|       887|   1058|  19|\n",
      "|      UR|     193|       864|   1057|  20|\n",
      "+--------+--------+----------+-------+----+\n",
      "only showing top 20 rows\n",
      "\n"
     ]
    }
   ],
   "source": [
    "#upsc_data=upsc_data.na.fill(\"UR\", \"CATEGORY\")\n",
    "colname=[\"CATEGORY\"]\n",
    "upsc_data=upsc_data.na.fill(\"UR\",colname);\n",
    "upsc_data.show()"
   ]
  },
  {
   "cell_type": "code",
   "execution_count": 47,
   "metadata": {},
   "outputs": [],
   "source": [
    "from pyspark.ml.feature import StringIndexer\n",
    "indexer=StringIndexer(inputCol='CATEGORY', outputCol='CATEGORY_cat')\n",
    "indexed=indexer.fit(upsc_data).transform(upsc_data) "
   ]
  },
  {
   "cell_type": "code",
   "execution_count": 48,
   "metadata": {},
   "outputs": [
    {
     "name": "stdout",
     "output_type": "stream",
     "text": [
      "+--------+--------+----------+-------+----+------------+\n",
      "|CATEGORY|PT_MARKS|MAIN_MARKS|F_TOTAL|RANK|CATEGORY_cat|\n",
      "+--------+--------+----------+-------+----+------------+\n",
      "|      SC|     179|       942|   1121|   1|         2.0|\n",
      "|      UR|     198|       882|   1080|   2|         0.0|\n",
      "|      UR|     184|       893|   1077|   3|         0.0|\n",
      "|      UR|     184|       887|   1071|   4|         0.0|\n",
      "|      UR|     173|       895|   1068|   5|         0.0|\n",
      "|      UR|     184|       883|   1067|   6|         0.0|\n",
      "|      UR|     182|       885|   1067|   7|         0.0|\n",
      "|      UR|     195|       871|   1066|   8|         0.0|\n",
      "|      UR|     193|       871|   1064|   9|         0.0|\n",
      "|      UR|     187|       877|   1064|  10|         0.0|\n",
      "|      UR|     193|       870|   1063|  11|         0.0|\n",
      "|      UR|     171|       891|   1062|  12|         0.0|\n",
      "|      UR|     165|       897|   1062|  13|         0.0|\n",
      "|      UR|     182|       879|   1061|  14|         0.0|\n",
      "|      UR|     206|       854|   1060|  15|         0.0|\n",
      "|     OBC|     176|       884|   1060|  16|         1.0|\n",
      "|      UR|     193|       866|   1059|  17|         0.0|\n",
      "|      UR|     180|       879|   1059|  18|         0.0|\n",
      "|      UR|     171|       887|   1058|  19|         0.0|\n",
      "|      UR|     193|       864|   1057|  20|         0.0|\n",
      "+--------+--------+----------+-------+----+------------+\n",
      "only showing top 20 rows\n",
      "\n"
     ]
    }
   ],
   "source": [
    "indexed.show()"
   ]
  },
  {
   "cell_type": "code",
   "execution_count": 50,
   "metadata": {},
   "outputs": [
    {
     "name": "stdout",
     "output_type": "stream",
     "text": [
      "+--------------------+----+\n",
      "|             feature|RANK|\n",
      "+--------------------+----+\n",
      "|[179.0,942.0,1121...|   1|\n",
      "|[198.0,882.0,1080...|   2|\n",
      "|[184.0,893.0,1077...|   3|\n",
      "|[184.0,887.0,1071...|   4|\n",
      "|[173.0,895.0,1068...|   5|\n",
      "|[184.0,883.0,1067...|   6|\n",
      "|[182.0,885.0,1067...|   7|\n",
      "|[195.0,871.0,1066...|   8|\n",
      "|[193.0,871.0,1064...|   9|\n",
      "|[187.0,877.0,1064...|  10|\n",
      "|[193.0,870.0,1063...|  11|\n",
      "|[171.0,891.0,1062...|  12|\n",
      "|[165.0,897.0,1062...|  13|\n",
      "|[182.0,879.0,1061...|  14|\n",
      "|[206.0,854.0,1060...|  15|\n",
      "|[176.0,884.0,1060...|  16|\n",
      "|[193.0,866.0,1059...|  17|\n",
      "|[180.0,879.0,1059...|  18|\n",
      "|[171.0,887.0,1058...|  19|\n",
      "|[193.0,864.0,1057...|  20|\n",
      "+--------------------+----+\n",
      "only showing top 20 rows\n",
      "\n"
     ]
    }
   ],
   "source": [
    "from pyspark.ml.linalg import Vectors\n",
    "from pyspark.ml.feature import VectorAssembler\n",
    "\n",
    "assembler=VectorAssembler(inputCols=['PT_MARKS', \n",
    " 'MAIN_MARKS', \n",
    " 'F_TOTAL', \n",
    " 'CATEGORY_cat'], outputCol='feature')\n",
    "output=assembler.transform(indexed)\n",
    "output.select('feature','RANK').show()"
   ]
  },
  {
   "cell_type": "code",
   "execution_count": 51,
   "metadata": {},
   "outputs": [],
   "source": [
    "final_data=output.select('feature','RANK')\n",
    "train_data, test_data=final_data.randomSplit([0.7,0.3])"
   ]
  },
  {
   "cell_type": "code",
   "execution_count": 52,
   "metadata": {},
   "outputs": [
    {
     "name": "stdout",
     "output_type": "stream",
     "text": [
      "+-------+------------------+\n",
      "|summary|              RANK|\n",
      "+-------+------------------+\n",
      "|  count|               525|\n",
      "|   mean| 376.1485714285714|\n",
      "| stddev|222.14116966121216|\n",
      "|    min|                 1|\n",
      "|    max|               759|\n",
      "+-------+------------------+\n",
      "\n"
     ]
    }
   ],
   "source": [
    "train_data.describe().show()"
   ]
  },
  {
   "cell_type": "code",
   "execution_count": 53,
   "metadata": {},
   "outputs": [
    {
     "name": "stdout",
     "output_type": "stream",
     "text": [
      "+-------+------------------+\n",
      "|summary|              RANK|\n",
      "+-------+------------------+\n",
      "|  count|               234|\n",
      "|   mean|388.64102564102564|\n",
      "| stddev|212.83020137820208|\n",
      "|    min|                 2|\n",
      "|    max|               754|\n",
      "+-------+------------------+\n",
      "\n"
     ]
    }
   ],
   "source": [
    "test_data.describe().show()"
   ]
  },
  {
   "cell_type": "code",
   "execution_count": 54,
   "metadata": {},
   "outputs": [
    {
     "name": "stdout",
     "output_type": "stream",
     "text": [
      "Rsquared Error : 0.8663209821645651\n"
     ]
    }
   ],
   "source": [
    "from pyspark.ml.regression import LinearRegression\n",
    "\n",
    "ship_lr=LinearRegression(featuresCol='feature', labelCol='RANK')\n",
    "trainded_ship_model=ship_lr.fit(train_data)\n",
    "ship_result=trainded_ship_model.evaluate(train_data)\n",
    "\n",
    "print('Rsquared Error :',ship_result.r2) "
   ]
  },
  {
   "cell_type": "code",
   "execution_count": 55,
   "metadata": {},
   "outputs": [
    {
     "data": {
      "text/plain": [
       "[Row(feature=DenseVector([124.0, 833.0, 957.0, 2.0])),\n",
       " Row(feature=DenseVector([132.0, 823.0, 955.0, 1.0])),\n",
       " Row(feature=DenseVector([135.0, 645.0, 780.0, 0.0])),\n",
       " Row(feature=DenseVector([135.0, 792.0, 927.0, 3.0]))]"
      ]
     },
     "execution_count": 55,
     "metadata": {},
     "output_type": "execute_result"
    }
   ],
   "source": [
    "unlabeled_data=test_data.select('feature')\n",
    "unlabeled_data.head(4)"
   ]
  },
  {
   "cell_type": "code",
   "execution_count": 56,
   "metadata": {},
   "outputs": [],
   "source": [
    "predictions=trainded_ship_model.transform(unlabeled_data)"
   ]
  },
  {
   "cell_type": "code",
   "execution_count": 57,
   "metadata": {},
   "outputs": [
    {
     "name": "stdout",
     "output_type": "stream",
     "text": [
      "+--------------------+------------------+\n",
      "|             feature|        prediction|\n",
      "+--------------------+------------------+\n",
      "|[124.0,833.0,957....| 513.5990173544446|\n",
      "|[132.0,823.0,955....|465.61288784108274|\n",
      "|[135.0,645.0,780....|1062.0614627817781|\n",
      "|[135.0,792.0,927....| 679.1420145522939|\n",
      "|[135.0,818.0,953....|472.81055832172024|\n",
      "|[138.0,786.0,924....| 635.2913378641761|\n",
      "|[138.0,794.0,932....| 660.2809945596659|\n",
      "|[138.0,799.0,937....|  586.896626985254|\n",
      "|[138.0,806.0,944....| 506.0669192756236|\n",
      "|[138.0,849.0,987....| 291.2210891320551|\n",
      "|[140.0,851.0,991....| 276.1652957585634|\n",
      "|[143.0,777.0,920....| 649.7692353769785|\n",
      "|[143.0,804.0,947....| 549.2571435515251|\n",
      "|[143.0,811.0,954....| 523.1984530782597|\n",
      "|[143.0,838.0,981....|422.68636125280636|\n",
      "|[143.0,847.0,990....| 279.6402961715917|\n",
      "|[143.0,866.0,1009...|208.90956488701386|\n",
      "|[144.0,771.0,915....| 668.3000291634985|\n",
      "|[146.0,676.0,822....| 904.8011978753871|\n",
      "|[146.0,766.0,912....| 734.0739434996372|\n",
      "+--------------------+------------------+\n",
      "only showing top 20 rows\n",
      "\n"
     ]
    }
   ],
   "source": [
    "predictions.show()"
   ]
  },
  {
   "cell_type": "code",
   "execution_count": null,
   "metadata": {},
   "outputs": [],
   "source": []
  }
 ],
 "metadata": {
  "kernelspec": {
   "display_name": "Python 3",
   "language": "python",
   "name": "python3"
  },
  "language_info": {
   "codemirror_mode": {
    "name": "ipython",
    "version": 3
   },
   "file_extension": ".py",
   "mimetype": "text/x-python",
   "name": "python",
   "nbconvert_exporter": "python",
   "pygments_lexer": "ipython3",
   "version": "3.5.2"
  }
 },
 "nbformat": 4,
 "nbformat_minor": 2
}
