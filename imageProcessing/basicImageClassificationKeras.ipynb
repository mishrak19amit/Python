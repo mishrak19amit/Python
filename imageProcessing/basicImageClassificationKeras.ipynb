{
 "cells": [
  {
   "cell_type": "code",
   "execution_count": 1,
   "metadata": {},
   "outputs": [],
   "source": [
    "#https://becominghuman.ai/building-an-image-classifier-using-deep-learning-in-python-totally-from-a-beginners-perspective-be8dbaf22dd8\n",
    "#https://github.com/thanhson1085/Hello-AI\n",
    "#https://www.pexels.com/search/cat/"
   ]
  },
  {
   "cell_type": "code",
   "execution_count": 2,
   "metadata": {},
   "outputs": [
    {
     "name": "stderr",
     "output_type": "stream",
     "text": [
      "Using TensorFlow backend.\n"
     ]
    },
    {
     "name": "stdout",
     "output_type": "stream",
     "text": [
      "Found 8000 images belonging to 2 classes.\n",
      "Found 2000 images belonging to 2 classes.\n"
     ]
    }
   ],
   "source": [
    "# Convolutional Neural Network\n",
    "\n",
    "# Installing Theano\n",
    "# pip install --upgrade --no-deps git+git://github.com/Theano/Theano.git\n",
    "\n",
    "# Installing Tensorflow\n",
    "# pip install tensorflow\n",
    "\n",
    "# Installing Keras\n",
    "# pip install --upgrade keras\n",
    "\n",
    "# Part 1 - Building the CNN\n",
    "\n",
    "# Importing the Keras libraries and packages\n",
    "from keras.models import Sequential\n",
    "from keras.layers import Conv2D\n",
    "from keras.layers import MaxPooling2D\n",
    "from keras.layers import Flatten\n",
    "from keras.layers import Dense\n",
    "\n",
    "# Initialising the CNN\n",
    "classifier = Sequential()\n",
    "\n",
    "# Step 1 - Convolution\n",
    "classifier.add(Conv2D(32, (3, 3), input_shape = (64, 64, 3), activation = 'relu'))\n",
    "\n",
    "# Step 2 - Pooling\n",
    "classifier.add(MaxPooling2D(pool_size = (2, 2)))\n",
    "\n",
    "# Adding a second convolutional layer\n",
    "classifier.add(Conv2D(32, (3, 3), activation = 'relu'))\n",
    "classifier.add(MaxPooling2D(pool_size = (2, 2)))\n",
    "\n",
    "# Step 3 - Flattening\n",
    "classifier.add(Flatten())\n",
    "\n",
    "# Step 4 - Full connection\n",
    "classifier.add(Dense(units = 128, activation = 'relu'))\n",
    "classifier.add(Dense(units = 1, activation = 'softmax'))\n",
    "\n",
    "# Compiling the CNN\n",
    "classifier.compile(optimizer = 'adam', loss = 'binary_crossentropy', metrics = ['accuracy'])\n",
    "\n",
    "# Part 2 - Fitting the CNN to the images\n",
    "\n",
    "from keras.preprocessing.image import ImageDataGenerator\n",
    "\n",
    "train_datagen = ImageDataGenerator(rescale = 1./255,\n",
    "                                   shear_range = 0.2,\n",
    "                                   zoom_range = 0.2,\n",
    "                                   horizontal_flip = True)\n",
    "\n",
    "test_datagen = ImageDataGenerator(rescale = 1./255)\n",
    "\n",
    "training_set = train_datagen.flow_from_directory('/home/moglix/Desktop/Amit/Data_Spark/imageProcessing/imageDogCat/dataset/training_set',\n",
    "                                                 target_size = (64, 64),\n",
    "                                                 batch_size = 32,\n",
    "                                                 class_mode = 'binary')\n",
    "\n",
    "test_set = test_datagen.flow_from_directory('/home/moglix/Desktop/Amit/Data_Spark/imageProcessing/imageDogCat/dataset/test_set',\n",
    "                                            target_size = (64, 64),\n",
    "                                            batch_size = 32,\n",
    "                                            class_mode = 'binary')\n",
    "\n"
   ]
  },
  {
   "cell_type": "code",
   "execution_count": 3,
   "metadata": {},
   "outputs": [
    {
     "name": "stdout",
     "output_type": "stream",
     "text": [
      "Epoch 1/25\n",
      "8000/8000 [==============================] - 1225s 153ms/step - loss: 7.6666 - accuracy: 0.5000 - val_loss: 8.6249 - val_accuracy: 0.5002\n",
      "Epoch 2/25\n",
      "8000/8000 [==============================] - 1137s 142ms/step - loss: 7.6666 - accuracy: 0.5000 - val_loss: 8.1458 - val_accuracy: 0.5000\n",
      "Epoch 3/25\n",
      "8000/8000 [==============================] - 1178s 147ms/step - loss: 7.6666 - accuracy: 0.5000 - val_loss: 7.1875 - val_accuracy: 0.4999\n",
      "Epoch 4/25\n",
      "8000/8000 [==============================] - 1171s 146ms/step - loss: 7.6666 - accuracy: 0.5000 - val_loss: 8.6249 - val_accuracy: 0.4999\n",
      "Epoch 5/25\n",
      "8000/8000 [==============================] - 1125s 141ms/step - loss: 7.6666 - accuracy: 0.5000 - val_loss: 10.0624 - val_accuracy: 0.5000\n",
      "Epoch 6/25\n",
      "8000/8000 [==============================] - 1198s 150ms/step - loss: 7.6666 - accuracy: 0.5000 - val_loss: 8.6249 - val_accuracy: 0.5002\n",
      "Epoch 7/25\n",
      "8000/8000 [==============================] - 2638s 330ms/step - loss: 7.6666 - accuracy: 0.5000 - val_loss: 7.6666 - val_accuracy: 0.4999\n",
      "Epoch 8/25\n",
      "4172/8000 [==============>...............] - ETA: 23:08 - loss: 7.6712 - accuracy: 0.4997"
     ]
    },
    {
     "name": "stderr",
     "output_type": "stream",
     "text": [
      "/home/moglix/Python3/local/lib/python3.5/site-packages/keras/utils/data_utils.py:616: UserWarning: The input 248 could not be retrieved. It could be because a worker has died.\n",
      "  UserWarning)\n"
     ]
    },
    {
     "name": "stdout",
     "output_type": "stream",
     "text": [
      "8000/8000 [==============================] - 9876s 1s/step - loss: 7.6666 - accuracy: 0.5000 - val_loss: 10.0624 - val_accuracy: 0.4998\n",
      "Epoch 9/25\n",
      "8000/8000 [==============================] - 1146s 143ms/step - loss: 7.6666 - accuracy: 0.5000 - val_loss: 8.6249 - val_accuracy: 0.5000\n",
      "Epoch 10/25\n",
      "8000/8000 [==============================] - 1156s 144ms/step - loss: 7.6666 - accuracy: 0.5000 - val_loss: 8.1458 - val_accuracy: 0.5002\n",
      "Epoch 11/25\n",
      "8000/8000 [==============================] - 1164s 146ms/step - loss: 7.6666 - accuracy: 0.5000 - val_loss: 6.7083 - val_accuracy: 0.5000\n",
      "Epoch 12/25\n",
      "8000/8000 [==============================] - 1131s 141ms/step - loss: 7.6666 - accuracy: 0.5000 - val_loss: 6.7083 - val_accuracy: 0.4999\n",
      "Epoch 13/25\n",
      "8000/8000 [==============================] - 1096s 137ms/step - loss: 7.6666 - accuracy: 0.5000 - val_loss: 8.6249 - val_accuracy: 0.5001\n",
      "Epoch 14/25\n",
      "8000/8000 [==============================] - 1125s 141ms/step - loss: 7.6666 - accuracy: 0.5000 - val_loss: 8.1458 - val_accuracy: 0.4998\n",
      "Epoch 15/25\n",
      "8000/8000 [==============================] - 1149s 144ms/step - loss: 7.6666 - accuracy: 0.5000 - val_loss: 9.5833 - val_accuracy: 0.5001\n",
      "Epoch 16/25\n",
      "8000/8000 [==============================] - 1117s 140ms/step - loss: 7.6666 - accuracy: 0.5000 - val_loss: 7.1875 - val_accuracy: 0.5000\n",
      "Epoch 17/25\n",
      "8000/8000 [==============================] - 1118s 140ms/step - loss: 7.6666 - accuracy: 0.5000 - val_loss: 8.6249 - val_accuracy: 0.5000\n",
      "Epoch 18/25\n",
      "8000/8000 [==============================] - 1116s 139ms/step - loss: 7.6666 - accuracy: 0.5000 - val_loss: 8.1458 - val_accuracy: 0.5004\n",
      "Epoch 19/25\n",
      "8000/8000 [==============================] - 1118s 140ms/step - loss: 7.6666 - accuracy: 0.5000 - val_loss: 7.6666 - val_accuracy: 0.4996\n",
      "Epoch 20/25\n",
      "8000/8000 [==============================] - 1132s 142ms/step - loss: 7.6666 - accuracy: 0.5000 - val_loss: 8.1458 - val_accuracy: 0.5000\n",
      "Epoch 21/25\n",
      "8000/8000 [==============================] - 1122s 140ms/step - loss: 7.6666 - accuracy: 0.5000 - val_loss: 9.1041 - val_accuracy: 0.4998\n",
      "Epoch 22/25\n",
      "8000/8000 [==============================] - 1148s 143ms/step - loss: 7.6666 - accuracy: 0.5000 - val_loss: 5.7500 - val_accuracy: 0.5003\n",
      "Epoch 23/25\n",
      "8000/8000 [==============================] - 1305s 163ms/step - loss: 7.6666 - accuracy: 0.5000 - val_loss: 8.1458 - val_accuracy: 0.4998\n",
      "Epoch 24/25\n",
      "8000/8000 [==============================] - 1363s 170ms/step - loss: 7.6666 - accuracy: 0.5000 - val_loss: 6.7083 - val_accuracy: 0.4999\n",
      "Epoch 25/25\n",
      "6183/8000 [======================>.......] - ETA: 2:43:52 - loss: 7.6639 - accuracy: 0.5002"
     ]
    },
    {
     "name": "stderr",
     "output_type": "stream",
     "text": [
      "/home/moglix/Python3/local/lib/python3.5/site-packages/keras/utils/data_utils.py:616: UserWarning: The input 108 could not be retrieved. It could be because a worker has died.\n",
      "  UserWarning)\n"
     ]
    },
    {
     "name": "stdout",
     "output_type": "stream",
     "text": [
      "8000/8000 [==============================] - 33851s 4s/step - loss: 7.6666 - accuracy: 0.5000 - val_loss: 6.2291 - val_accuracy: 0.4999\n"
     ]
    },
    {
     "data": {
      "text/plain": [
       "<keras.callbacks.callbacks.History at 0x7f7648312860>"
      ]
     },
     "execution_count": 3,
     "metadata": {},
     "output_type": "execute_result"
    }
   ],
   "source": [
    "classifier.fit_generator(training_set,\n",
    "                         steps_per_epoch = 8000,\n",
    "                         epochs = 25,\n",
    "                         validation_data = test_set,\n",
    "                         validation_steps = 2000)"
   ]
  },
  {
   "cell_type": "code",
   "execution_count": 4,
   "metadata": {},
   "outputs": [],
   "source": [
    "classifier.save_weights('8000_softmax_50_epochs.h5')"
   ]
  },
  {
   "cell_type": "code",
   "execution_count": 5,
   "metadata": {},
   "outputs": [],
   "source": [
    "classifier.save(\"softmax_imageClassifier.h5\")"
   ]
  },
  {
   "cell_type": "code",
   "execution_count": 6,
   "metadata": {},
   "outputs": [
    {
     "name": "stdout",
     "output_type": "stream",
     "text": [
      "<PIL.Image.Image image mode=RGB size=64x64 at 0x7F764810CF60>\n",
      "<keras.engine.sequential.Sequential object at 0x7f76b4598b70>\n",
      "[[1.]]\n"
     ]
    }
   ],
   "source": [
    "import numpy as np\n",
    "from keras.preprocessing import image\n",
    "test_image = image.load_img('/home/moglix/Desktop/Amit/PGitHub/Python/imageProcessing/catTest4.jpeg', target_size = (64, 64))\n",
    "print(test_image)\n",
    "test_image = image.img_to_array(test_image)\n",
    "test_image = np.expand_dims(test_image, axis = 0)\n",
    "result = classifier.predict(test_image)\n",
    "print(classifier)\n",
    "#print(test_image)\n",
    "print(result)\n",
    "training_set.class_indices\n",
    "if result[0][0] == 1:\n",
    "    prediction = 'dog'\n",
    "else:\n",
    "    prediction = 'cat'"
   ]
  },
  {
   "cell_type": "code",
   "execution_count": 7,
   "metadata": {},
   "outputs": [
    {
     "data": {
      "text/plain": [
       "'dog'"
      ]
     },
     "execution_count": 7,
     "metadata": {},
     "output_type": "execute_result"
    }
   ],
   "source": [
    "prediction"
   ]
  }
 ],
 "metadata": {
  "kernelspec": {
   "display_name": "Python 3",
   "language": "python",
   "name": "python3"
  },
  "language_info": {
   "codemirror_mode": {
    "name": "ipython",
    "version": 3
   },
   "file_extension": ".py",
   "mimetype": "text/x-python",
   "name": "python",
   "nbconvert_exporter": "python",
   "pygments_lexer": "ipython3",
   "version": "3.5.2"
  }
 },
 "nbformat": 4,
 "nbformat_minor": 2
}
